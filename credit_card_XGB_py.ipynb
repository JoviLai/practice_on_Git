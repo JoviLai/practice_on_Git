{
 "cells": [
  {
   "cell_type": "code",
   "execution_count": 1,
   "metadata": {},
   "outputs": [],
   "source": [
    "# data analysis and wrangling\n",
    "import pandas as pd\n",
    "import numpy as np\n",
    "import random as rnd\n",
    "\n",
    "# visualization\n",
    "import seaborn as sns\n",
    "import matplotlib.pyplot as plt\n",
    "from sklearn.preprocessing import MinMaxScaler\n",
    "from sklearn.preprocessing import StandardScaler\n",
    "%matplotlib inline\n",
    "import warnings\n",
    "warnings.filterwarnings('ignore')\n",
    "\n",
    "\n",
    "df_train = pd.read_csv( \"train.csv\" )\n",
    "df_test = pd.read_csv( \"test.csv\" )\n"
   ]
  },
  {
   "cell_type": "code",
   "execution_count": 2,
   "metadata": {},
   "outputs": [
    {
     "data": {
      "text/plain": [
       "(1943452, 22)"
      ]
     },
     "execution_count": 2,
     "metadata": {},
     "output_type": "execute_result"
    }
   ],
   "source": [
    "df_all = pd.concat( [ df_train.drop( ['fraud_ind' ], axis = 1 ),\n",
    "                      df_test ],\n",
    "                      axis = 0, ignore_index = False )\n",
    "df_all.shape"
   ]
  },
  {
   "cell_type": "code",
   "execution_count": 3,
   "metadata": {},
   "outputs": [],
   "source": [
    "# df_all.stscd = df_all.stscd.astype( str )\n",
    "# df_all.iterm = df_all.iterm.astype( str )\n",
    "# df_all.hcefg = df_all.hcefg.astype( str )\n",
    "# df_all.etymd = df_all.etymd.astype( str )\n",
    "# df_all.csmcu = df_all.csmcu.astype( str )\n",
    "# df_all.contp = df_all.contp.astype( str )"
   ]
  },
  {
   "cell_type": "code",
   "execution_count": 4,
   "metadata": {},
   "outputs": [],
   "source": [
    "cols1 = [\"flbmk\" , \"flg_3dsmk\"]\n",
    "for col in cols1:\n",
    "    df_all[col].fillna(\"N\", inplace=True)"
   ]
  },
  {
   "cell_type": "code",
   "execution_count": 5,
   "metadata": {},
   "outputs": [],
   "source": [
    "df_all = df_all.drop(['cano'], axis = 1)\n",
    "# print( df_all.shape)"
   ]
  },
  {
   "cell_type": "code",
   "execution_count": 6,
   "metadata": {},
   "outputs": [],
   "source": [
    "# df_all = df_all.drop(['iterm'], axis = 1)\n",
    "# print( df_all.shape)"
   ]
  },
  {
   "cell_type": "code",
   "execution_count": 7,
   "metadata": {},
   "outputs": [],
   "source": [
    "# df_all = df_all.drop(['bacno'], axis = 1)\n",
    "# print( df_all.shape)"
   ]
  },
  {
   "cell_type": "code",
   "execution_count": 8,
   "metadata": {},
   "outputs": [
    {
     "name": "stdout",
     "output_type": "stream",
     "text": [
      "(1943452, 20)\n"
     ]
    }
   ],
   "source": [
    "df_all = df_all.drop(['txkey'], axis = 1)\n",
    "print( df_all.shape)"
   ]
  },
  {
   "cell_type": "code",
   "execution_count": 9,
   "metadata": {},
   "outputs": [],
   "source": [
    "# df_all = df_all.drop(['bacno'], axis = 1)\n",
    "# print( df_all.shape)"
   ]
  },
  {
   "cell_type": "code",
   "execution_count": 10,
   "metadata": {},
   "outputs": [],
   "source": [
    "# df_all = df_all.drop(['acqic'], axis = 1)\n",
    "# print( df_all.shape)"
   ]
  },
  {
   "cell_type": "code",
   "execution_count": 11,
   "metadata": {},
   "outputs": [],
   "source": [
    "df_all.loctm=df_all.loctm.astype(str)\n",
    "df_all['loctm'] = df_all.loctm.str.extract('([0-9]+)\\.', expand = False)\n",
    "df_all['loctm']=df_all.loctm.str.rjust(6,fillchar='0')\n",
    "df_all['loctm']=df_all.loctm.str.slice(0,2)\n",
    "df_all.loctm=df_all.loctm.astype(int)"
   ]
  },
  {
   "cell_type": "code",
   "execution_count": 12,
   "metadata": {},
   "outputs": [
    {
     "data": {
      "text/html": [
       "<div>\n",
       "<style scoped>\n",
       "    .dataframe tbody tr th:only-of-type {\n",
       "        vertical-align: middle;\n",
       "    }\n",
       "\n",
       "    .dataframe tbody tr th {\n",
       "        vertical-align: top;\n",
       "    }\n",
       "\n",
       "    .dataframe thead th {\n",
       "        text-align: right;\n",
       "    }\n",
       "</style>\n",
       "<table border=\"1\" class=\"dataframe\">\n",
       "  <thead>\n",
       "    <tr style=\"text-align: right;\">\n",
       "      <th></th>\n",
       "      <th>acqic</th>\n",
       "      <th>bacno</th>\n",
       "      <th>conam</th>\n",
       "      <th>contp</th>\n",
       "      <th>csmcu</th>\n",
       "      <th>etymd</th>\n",
       "      <th>hcefg</th>\n",
       "      <th>iterm</th>\n",
       "      <th>locdt</th>\n",
       "      <th>loctm</th>\n",
       "      <th>...</th>\n",
       "      <th>ecfg_N</th>\n",
       "      <th>ecfg_Y</th>\n",
       "      <th>flbmk_N</th>\n",
       "      <th>flbmk_Y</th>\n",
       "      <th>flg_3dsmk_N</th>\n",
       "      <th>flg_3dsmk_Y</th>\n",
       "      <th>insfg_N</th>\n",
       "      <th>insfg_Y</th>\n",
       "      <th>ovrlt_N</th>\n",
       "      <th>ovrlt_Y</th>\n",
       "    </tr>\n",
       "  </thead>\n",
       "  <tbody>\n",
       "    <tr>\n",
       "      <th>0</th>\n",
       "      <td>6881</td>\n",
       "      <td>113261</td>\n",
       "      <td>513.80</td>\n",
       "      <td>5</td>\n",
       "      <td>0</td>\n",
       "      <td>0</td>\n",
       "      <td>5</td>\n",
       "      <td>0</td>\n",
       "      <td>33</td>\n",
       "      <td>17</td>\n",
       "      <td>...</td>\n",
       "      <td>1</td>\n",
       "      <td>0</td>\n",
       "      <td>1</td>\n",
       "      <td>0</td>\n",
       "      <td>1</td>\n",
       "      <td>0</td>\n",
       "      <td>1</td>\n",
       "      <td>0</td>\n",
       "      <td>1</td>\n",
       "      <td>0</td>\n",
       "    </tr>\n",
       "    <tr>\n",
       "      <th>1</th>\n",
       "      <td>0</td>\n",
       "      <td>134508</td>\n",
       "      <td>465.62</td>\n",
       "      <td>5</td>\n",
       "      <td>0</td>\n",
       "      <td>2</td>\n",
       "      <td>0</td>\n",
       "      <td>0</td>\n",
       "      <td>9</td>\n",
       "      <td>10</td>\n",
       "      <td>...</td>\n",
       "      <td>1</td>\n",
       "      <td>0</td>\n",
       "      <td>1</td>\n",
       "      <td>0</td>\n",
       "      <td>1</td>\n",
       "      <td>0</td>\n",
       "      <td>1</td>\n",
       "      <td>0</td>\n",
       "      <td>1</td>\n",
       "      <td>0</td>\n",
       "    </tr>\n",
       "    <tr>\n",
       "      <th>2</th>\n",
       "      <td>6881</td>\n",
       "      <td>15408</td>\n",
       "      <td>513.80</td>\n",
       "      <td>5</td>\n",
       "      <td>0</td>\n",
       "      <td>0</td>\n",
       "      <td>5</td>\n",
       "      <td>0</td>\n",
       "      <td>6</td>\n",
       "      <td>15</td>\n",
       "      <td>...</td>\n",
       "      <td>1</td>\n",
       "      <td>0</td>\n",
       "      <td>1</td>\n",
       "      <td>0</td>\n",
       "      <td>1</td>\n",
       "      <td>0</td>\n",
       "      <td>1</td>\n",
       "      <td>0</td>\n",
       "      <td>1</td>\n",
       "      <td>0</td>\n",
       "    </tr>\n",
       "    <tr>\n",
       "      <th>3</th>\n",
       "      <td>6716</td>\n",
       "      <td>157159</td>\n",
       "      <td>1016.11</td>\n",
       "      <td>5</td>\n",
       "      <td>62</td>\n",
       "      <td>5</td>\n",
       "      <td>5</td>\n",
       "      <td>0</td>\n",
       "      <td>5</td>\n",
       "      <td>17</td>\n",
       "      <td>...</td>\n",
       "      <td>1</td>\n",
       "      <td>0</td>\n",
       "      <td>1</td>\n",
       "      <td>0</td>\n",
       "      <td>1</td>\n",
       "      <td>0</td>\n",
       "      <td>1</td>\n",
       "      <td>0</td>\n",
       "      <td>1</td>\n",
       "      <td>0</td>\n",
       "    </tr>\n",
       "    <tr>\n",
       "      <th>4</th>\n",
       "      <td>5975</td>\n",
       "      <td>105985</td>\n",
       "      <td>713.66</td>\n",
       "      <td>5</td>\n",
       "      <td>62</td>\n",
       "      <td>4</td>\n",
       "      <td>5</td>\n",
       "      <td>0</td>\n",
       "      <td>6</td>\n",
       "      <td>18</td>\n",
       "      <td>...</td>\n",
       "      <td>1</td>\n",
       "      <td>0</td>\n",
       "      <td>1</td>\n",
       "      <td>0</td>\n",
       "      <td>1</td>\n",
       "      <td>0</td>\n",
       "      <td>1</td>\n",
       "      <td>0</td>\n",
       "      <td>1</td>\n",
       "      <td>0</td>\n",
       "    </tr>\n",
       "  </tbody>\n",
       "</table>\n",
       "<p>5 rows × 25 columns</p>\n",
       "</div>"
      ],
      "text/plain": [
       "   acqic   bacno    conam  contp  csmcu  etymd  hcefg  iterm  locdt  loctm  \\\n",
       "0   6881  113261   513.80      5      0      0      5      0     33     17   \n",
       "1      0  134508   465.62      5      0      2      0      0      9     10   \n",
       "2   6881   15408   513.80      5      0      0      5      0      6     15   \n",
       "3   6716  157159  1016.11      5     62      5      5      0      5     17   \n",
       "4   5975  105985   713.66      5     62      4      5      0      6     18   \n",
       "\n",
       "    ...     ecfg_N  ecfg_Y  flbmk_N  flbmk_Y  flg_3dsmk_N  flg_3dsmk_Y  \\\n",
       "0   ...          1       0        1        0            1            0   \n",
       "1   ...          1       0        1        0            1            0   \n",
       "2   ...          1       0        1        0            1            0   \n",
       "3   ...          1       0        1        0            1            0   \n",
       "4   ...          1       0        1        0            1            0   \n",
       "\n",
       "   insfg_N  insfg_Y  ovrlt_N  ovrlt_Y  \n",
       "0        1        0        1        0  \n",
       "1        1        0        1        0  \n",
       "2        1        0        1        0  \n",
       "3        1        0        1        0  \n",
       "4        1        0        1        0  \n",
       "\n",
       "[5 rows x 25 columns]"
      ]
     },
     "execution_count": 12,
     "metadata": {},
     "output_type": "execute_result"
    }
   ],
   "source": [
    "df_all_dum = pd.get_dummies(df_all); df_all_dum.head()"
   ]
  },
  {
   "cell_type": "code",
   "execution_count": 13,
   "metadata": {},
   "outputs": [
    {
     "data": {
      "text/plain": [
       "0   -0.341794\n",
       "1   -0.461282\n",
       "2   -0.341794\n",
       "3    0.903959\n",
       "4    0.153869\n",
       "Name: conam, dtype: float64"
      ]
     },
     "execution_count": 13,
     "metadata": {},
     "output_type": "execute_result"
    }
   ],
   "source": [
    "# normalization helps a bit\n",
    "from sklearn import preprocessing\n",
    "df_all_dum[ 'conam' ] = preprocessing.scale( df_all_dum[ 'conam' ] )\n",
    "df_all_dum[ 'conam' ].head()"
   ]
  },
  {
   "cell_type": "markdown",
   "metadata": {},
   "source": [
    "## Training Start"
   ]
  },
  {
   "cell_type": "code",
   "execution_count": 14,
   "metadata": {},
   "outputs": [
    {
     "data": {
      "text/plain": [
       "(1521787,)"
      ]
     },
     "execution_count": 14,
     "metadata": {},
     "output_type": "execute_result"
    }
   ],
   "source": [
    "# inputs\n",
    "from sklearn.model_selection import train_test_split\n",
    "X = df_all_dum[:df_train.shape[0]]\n",
    "y = df_train.fraud_ind\n",
    "\n",
    "y.shape"
   ]
  },
  {
   "cell_type": "code",
   "execution_count": 15,
   "metadata": {},
   "outputs": [],
   "source": [
    "X, X_val, y, y_val = train_test_split(X, y, test_size = 0.3, random_state = 40)\n",
    "\n",
    "X_test = df_all_dum[ df_train.shape[0]: ]"
   ]
  },
  {
   "cell_type": "code",
   "execution_count": 16,
   "metadata": {},
   "outputs": [],
   "source": [
    "# from xgboost import XGBClassifier\n",
    "# from sklearn.model_selection import RandomizedSearchCV,GridSearchCV\n",
    "# from sklearn.metrics import accuracy_score\n",
    "# warnings.filterwarnings('ignore')\n",
    "\n",
    "# parameters= {'n_estimators':[100,200,500], 'learning_rate':[0.1,0.05,0.01,0.001], 'max_depth':[8,10,12]}\n",
    "# xgb_model = XGBClassifier()\n",
    "# xgb_model.fit(X, y)\n",
    "# xgb_best_model = RandomizedSearchCV(xgb_model, parameters, cv=5, scoring='accuracy', return_train_score='cv_results_')\n",
    "# xgb_best_model.fit(X, y)"
   ]
  },
  {
   "cell_type": "code",
   "execution_count": 17,
   "metadata": {},
   "outputs": [],
   "source": [
    "from sklearn.ensemble import RandomForestClassifier\n",
    "from sklearn.model_selection import cross_val_score\n",
    "from sklearn.model_selection import train_test_split\n",
    "from sklearn import svm\n",
    "from sklearn.preprocessing import StandardScaler\n",
    "from sklearn.preprocessing import MinMaxScaler\n",
    "from xgboost import XGBClassifier\n",
    "from sklearn.model_selection import RandomizedSearchCV,GridSearchCV\n",
    "from sklearn.linear_model import LogisticRegression\n",
    "\n",
    "from sklearn.metrics import accuracy_score\n",
    "from sklearn.ensemble import VotingClassifier"
   ]
  },
  {
   "cell_type": "code",
   "execution_count": 18,
   "metadata": {},
   "outputs": [
    {
     "name": "stdout",
     "output_type": "stream",
     "text": [
      "Fitting 3 folds for each of 72 candidates, totalling 216 fits\n"
     ]
    },
    {
     "name": "stderr",
     "output_type": "stream",
     "text": [
      "[Parallel(n_jobs=3)]: Using backend LokyBackend with 3 concurrent workers.\n",
      "[Parallel(n_jobs=3)]: Done  35 tasks      | elapsed:  7.0min\n",
      "[Parallel(n_jobs=3)]: Done 156 tasks      | elapsed: 29.5min\n",
      "[Parallel(n_jobs=3)]: Done 216 out of 216 | elapsed: 38.8min finished\n"
     ]
    },
    {
     "name": "stdout",
     "output_type": "stream",
     "text": [
      "Best score: 0.714\n",
      "Best parameters set:\n",
      "\tcolsample_bytree: 1\n",
      "\tlearning_rate: 0.3\n",
      "\tmax_depth: 48\n",
      "\tmin_child_weight: 1\n",
      "\tsubsample: 1\n"
     ]
    }
   ],
   "source": [
    "warnings.filterwarnings('ignore')\n",
    "# parameters= { 'max_depth': [5, 10, 15, 20, 25],\n",
    "#               'learning_rate': [0.1, 0.3,0.5],\n",
    "# #               'n_estimators': [500, 1000, 2000, 3000, 5000],\n",
    "#               'min_child_weight': [0, 2, 5, 10, 20],\n",
    "#               'max_delta_step': [0, 0.2, 0.6, 1, 2],\n",
    "#               'subsample': [0.6, 0.7, 0.8, 0.85, 0.95],\n",
    "#               'colsample_bytree': [0.5, 0.6, 0.7, 0.8, 0.9],\n",
    "#               'reg_alpha': [0, 0.25, 0.5, 0.75, 1],\n",
    "#               'reg_lambda': [0.2, 0.4, 0.6, 0.8, 1],\n",
    "#               'scale_pos_weight': [0.2, 0.4, 0.6, 0.8, 1,73]}\n",
    "parameters={\n",
    "#             'n_estimators':range(80,200,4),\n",
    "            'max_depth':[24,48],\n",
    "            'learning_rate':[0.1,0.3,0.5],\n",
    "            'subsample':[0.5,1],\n",
    "            'colsample_bytree':[0.5,1],\n",
    "            'min_child_weight':[1,5,10]}\n",
    "\n",
    "\n",
    "xgb_model = XGBClassifier(tree_method='gpu_hist', objective='binary:logistic'\n",
    "                          ,n_estimators=50\n",
    "                          ,eval_metric=\"error\", early_stopping_rounds=10)\n",
    "# xgb_model.fit(X, y)\n",
    "xgb_best_model =GridSearchCV(xgb_model, parameters, cv=3, scoring='f1',verbose=2, n_jobs=3)\n",
    "xgb_best_model.fit(X, y)\n",
    "\n",
    "print(\"Best score: %0.3f\" % xgb_best_model.best_score_)\n",
    "print(\"Best parameters set:\")\n",
    "best_parameters = xgb_best_model.best_estimator_.get_params()\n",
    "for param_name in sorted(parameters.keys()):\n",
    "    print(\"\\t%s: %r\" % (param_name, best_parameters[param_name]))\n"
   ]
  },
  {
   "cell_type": "code",
   "execution_count": 19,
   "metadata": {},
   "outputs": [],
   "source": [
    "vclf = VotingClassifier(estimators=[('xgb', xgb_best_model)])"
   ]
  },
  {
   "cell_type": "code",
   "execution_count": 20,
   "metadata": {},
   "outputs": [],
   "source": [
    "# from sklearn.metrics import accuracy_score\n",
    "# xgb_best_model.score(X_test, y_test)"
   ]
  },
  {
   "cell_type": "code",
   "execution_count": 22,
   "metadata": {},
   "outputs": [
    {
     "ename": "TypeError",
     "evalue": "fit() got an unexpected keyword argument 'n_jobs'",
     "output_type": "error",
     "traceback": [
      "\u001b[1;31m---------------------------------------------------------------------------\u001b[0m",
      "\u001b[1;31mTypeError\u001b[0m                                 Traceback (most recent call last)",
      "\u001b[1;32m<ipython-input-22-68e133627503>\u001b[0m in \u001b[0;36m<module>\u001b[1;34m\u001b[0m\n\u001b[1;32m----> 1\u001b[1;33m \u001b[0mvclf\u001b[0m\u001b[1;33m.\u001b[0m\u001b[0mfit\u001b[0m\u001b[1;33m(\u001b[0m\u001b[0mX\u001b[0m\u001b[1;33m,\u001b[0m \u001b[0my\u001b[0m\u001b[1;33m,\u001b[0m\u001b[0mn_jobs\u001b[0m\u001b[1;33m=\u001b[0m\u001b[1;36m1\u001b[0m\u001b[1;33m)\u001b[0m\u001b[1;33m\u001b[0m\u001b[1;33m\u001b[0m\u001b[0m\n\u001b[0m",
      "\u001b[1;31mTypeError\u001b[0m: fit() got an unexpected keyword argument 'n_jobs'"
     ]
    }
   ],
   "source": [
    "vclf.fit(X, y)"
   ]
  },
  {
   "cell_type": "code",
   "execution_count": null,
   "metadata": {},
   "outputs": [],
   "source": [
    "from sklearn.metrics import f1_score\n",
    "val_pre=vclf.predict(X_val)\n",
    "print(f1_score(val_pre, y_val))"
   ]
  },
  {
   "cell_type": "code",
   "execution_count": null,
   "metadata": {},
   "outputs": [],
   "source": [
    "prediction=vclf.predict(X_test)\n",
    "# mapping={0:1,1:2,2:3,3:4,4:5,5:6,6:7}\n",
    "# prediction=[mapping[y] for y in prediction]\n",
    "\n",
    "data_submission=pd.DataFrame()\n",
    "data_submission[\"txkey\"]=df_test['txkey']\n",
    "data_submission[\"fraud_ind\"]=prediction\n",
    "data_submission.to_csv(\"xgb_submission.csv\",index=False)"
   ]
  },
  {
   "cell_type": "code",
   "execution_count": null,
   "metadata": {},
   "outputs": [],
   "source": []
  }
 ],
 "metadata": {
  "kernelspec": {
   "display_name": "Python 3",
   "language": "python",
   "name": "python3"
  },
  "language_info": {
   "codemirror_mode": {
    "name": "ipython",
    "version": 3
   },
   "file_extension": ".py",
   "mimetype": "text/x-python",
   "name": "python",
   "nbconvert_exporter": "python",
   "pygments_lexer": "ipython3",
   "version": "3.7.1"
  }
 },
 "nbformat": 4,
 "nbformat_minor": 2
}
